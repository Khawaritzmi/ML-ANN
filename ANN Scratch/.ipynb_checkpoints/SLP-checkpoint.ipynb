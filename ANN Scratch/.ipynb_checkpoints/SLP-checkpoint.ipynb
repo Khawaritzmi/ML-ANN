{
 "cells": [
  {
   "cell_type": "markdown",
   "metadata": {},
   "source": []
  },
  {
   "cell_type": "markdown",
   "metadata": {},
   "source": [
    "### import libraries"
   ]
  },
  {
   "cell_type": "code",
   "execution_count": 1,
   "metadata": {},
   "outputs": [],
   "source": [
    "import pandas as pd\n",
    "import matplotlib.pyplot as plt\n",
    "import seaborn as sns\n",
    "import numpy as np\n",
    "import math\n",
    "\n",
    "pd.set_option('display.max_rows', 500)\n",
    "pd.set_option('display.max_columns', 500)\n",
    "pd.set_option('display.width', 1000)"
   ]
  },
  {
   "cell_type": "markdown",
   "metadata": {},
   "source": [
    "### define columns name"
   ]
  },
  {
   "cell_type": "code",
   "execution_count": 2,
   "metadata": {},
   "outputs": [],
   "source": [
    "cols = ['i1','i2','i3','i4','i5','i6','i7','i8','i9','i10','i11','i12','i13','i14','i15','i16','i17','i18','i19','i20',\n",
    "        'i21','i22','i23','i24','i25','i26','i27','i28','i29','i30','i31','i32','i33','i34','i35','i36','target','x1','x2','x3','x4','x5','x6','x7','x8','x9','x10','x11','x12','x13','x14','x15','x16','x17','x18','x19','x20',\n",
    "        'x21','x22','x23','x24','x25','x26','x27','x28','x29','x30','x31','x32','x33','x34','x35','x36','bias','sigmoid','prediction','error',\n",
    "        'dx1','dx2','dx3','dx4','dx5','dx6','dx7','dx8','dx9','dx10','dx11','dx12','dx13','dx14','dx15','dx16','dx17','dx18','dx19','dx20',\n",
    "        'dx21','dx22','dx23','dx24','dx25','dx26','dx27','dx28','dx29','dx30','dx31','dx32','dx33','dx34','dx35','dx36','dbias'\n",
    "        ]"
   ]
  },
  {
   "cell_type": "markdown",
   "metadata": {},
   "source": [
    "### read data and display in dataframe"
   ]
  },
  {
   "cell_type": "code",
   "execution_count": 3,
   "metadata": {},
   "outputs": [],
   "source": [
    "df = pd.read_csv(\"C:/Users/aftermath/Documents/CS-101/JARINGAN SARAF TIRUAN/SLP MLP LVQ/csv-dataset.csv\", header=None, names=cols)\n",
    "df = df.drop([df.index[0]])\n",
    "df.reset_index(drop=True, inplace=True)\n",
    "\n",
    "dfv = pd.read_csv(\"C:/Users/aftermath/Documents/CS-101/JARINGAN SARAF TIRUAN/SLP MLP LVQ/csv-dataset-validation.csv\", header=None, names=cols)\n",
    "dfv = dfv.drop([dfv.index[0]])\n",
    "dfv.reset_index(drop=True, inplace=True)\n"
   ]
  },
  {
   "cell_type": "markdown",
   "metadata": {},
   "source": [
    "### input learning rate and epoch"
   ]
  },
  {
   "cell_type": "code",
   "execution_count": 4,
   "metadata": {},
   "outputs": [
    {
     "name": "stdout",
     "output_type": "stream",
     "text": [
      "input learning rate: 0.2\n",
      "input epoch: 80\n"
     ]
    }
   ],
   "source": [
    "learningrate = input(\"input learning rate: \")\n",
    "learningrate = float(learningrate)\n",
    "epoch = input(\"input epoch: \")\n",
    "epoch = int(epoch)"
   ]
  },
  {
   "cell_type": "markdown",
   "metadata": {},
   "source": [
    "### epoch-ing dataframe"
   ]
  },
  {
   "cell_type": "code",
   "execution_count": 5,
   "metadata": {},
   "outputs": [],
   "source": [
    "dftraining = df\n",
    "for i in range(0,epoch-1):\n",
    "    dftraining = dftraining.append(df,ignore_index=True, sort=False)"
   ]
  },
  {
   "cell_type": "markdown",
   "metadata": {},
   "source": [
    "### initiate weight and other variables"
   ]
  },
  {
   "cell_type": "code",
   "execution_count": 6,
   "metadata": {},
   "outputs": [],
   "source": [
    "setcolumns =  ['bias','x1','x2','x3','x4','x5','x6','x7','x8','x9','x10','x11','x12','x13','x14','x15','x16','x17','x18','x19','x20',\n",
    "               'x21','x22','x23','x24','x25','x26','x27','x28','x29','x30','x31','x32','x33','x34','x35','x36']\n",
    "\n",
    "for setcolumn in setcolumns:\n",
    "    dftraining.at[0,setcolumn] = 0.5\n",
    "    \n",
    "%matplotlib inline\n",
    "counter=1\n",
    "correcttraining=0\n",
    "correctvalidate=0\n",
    "\n",
    "ploterrortrain = []\n",
    "plotcorrecttrain = []\n",
    "ploterrorvalidate = []\n",
    "plotcorrectvalidate = []\n",
    "plotcounter = []\n"
   ]
  },
  {
   "cell_type": "markdown",
   "metadata": {},
   "source": [
    "### Feed forward and update weight"
   ]
  },
  {
   "cell_type": "code",
   "execution_count": 7,
   "metadata": {},
   "outputs": [],
   "source": [
    "for i in range(0,dftraining.shape[0]-1):\n",
    "    counter = counter + 1\n",
    "    #get sigmoid value\n",
    "    dftraining.at[i,'sigmoid'] = dftraining.at[i,'i1']*dftraining.at[i,'x1']+dftraining.at[i,'i2']*dftraining.at[i,'x2']+dftraining.at[i,'i3']*dftraining.at[i,'x3']+dftraining.at[i,'i4']*dftraining.at[i,'x4']+dftraining.at[i,'i5']*dftraining.at[i,'x5']+dftraining.at[i,'i6']*dftraining.at[i,'x6']+dftraining.at[i,'i7']*dftraining.at[i,'x7']+dftraining.at[i,'i8']*dftraining.at[i,'x8']+dftraining.at[i,'i9']*dftraining.at[i,'x9']+    dftraining.at[i,'i10']*dftraining.at[i,'x10']+dftraining.at[i,'i11']*dftraining.at[i,'x11']+dftraining.at[i,'i12']*dftraining.at[i,'x12']+dftraining.at[i,'i13']*dftraining.at[i,'x13']+    dftraining.at[i,'i14']*dftraining.at[i,'x14']+dftraining.at[i,'i15']*dftraining.at[i,'x15']+dftraining.at[i,'i16']*dftraining.at[i,'x16']+    dftraining.at[i,'i17']*dftraining.at[i,'x17']+dftraining.at[i,'i18']*dftraining.at[i,'x18']+dftraining.at[i,'i19']*dftraining.at[i,'x19']+    dftraining.at[i,'i20']*dftraining.at[i,'x20']+dftraining.at[i,'i21']*dftraining.at[i,'x21']+dftraining.at[i,'i22']*dftraining.at[i,'x22']+dftraining.at[i,'i23']*dftraining.at[i,'x23']+    dftraining.at[i,'i24']*dftraining.at[i,'x24']+dftraining.at[i,'i25']*dftraining.at[i,'x25']+dftraining.at[i,'i26']*dftraining.at[i,'x26']+    dftraining.at[i,'i27']*dftraining.at[i,'x27']+dftraining.at[i,'i28']*dftraining.at[i,'x28']+dftraining.at[i,'i29']*dftraining.at[i,'x29']+    dftraining.at[i,'i30']*dftraining.at[i,'x30']+dftraining.at[i,'i31']*dftraining.at[i,'x31']+dftraining.at[i,'i32']*dftraining.at[i,'x32']+dftraining.at[i,'i33']*dftraining.at[i,'x33']+    dftraining.at[i,'i34']*dftraining.at[i,'x34']+dftraining.at[i,'i35']*dftraining.at[i,'x35']+dftraining.at[i,'i36']*dftraining.at[i,'x36']+dftraining.at[i,'bias']\n",
    "    dftraining.at[i,'sigmoid'] =  1/(1+math.exp(-dftraining.at[i,'sigmoid']))\n",
    "    \n",
    "    #if else statements for sigmoid value\n",
    "    if dftraining.at[i,'sigmoid']>0.5:\n",
    "        dftraining.at[i,'prediction']= 1\n",
    "    else:\n",
    "        dftraining.at[i,'prediction']= 0\n",
    "    \n",
    "    #counts error\n",
    "    dftraining.at[i,'error'] = math.pow(float(dftraining.at[i,'target'])-float(dftraining.at[i,'sigmoid']),2)/2\n",
    "    \n",
    "    #get derrivatives dError/dSigma\n",
    "    derrivatives = -1*(float(dftraining.at[i,'target'])-float(dftraining.at[i,'sigmoid']))*float(dftraining.at[i,'sigmoid'])*(1-float(dftraining.at[i,'sigmoid']))\n",
    "    \n",
    "    #weight update\n",
    "    for j in range(1,37):\n",
    "         dftraining.at[i+1,'x'+str(j)] = dftraining.at[i,'x'+str(j)]-learningrate*derrivatives*dftraining.at[i,'i'+str(j)]\n",
    "    \n",
    "    dftraining.at[i,'dbias'] = derrivatives\n",
    "    dftraining.at[i+1,'bias'] = dftraining.at[i,'bias']-learningrate*dftraining.at[i,'dbias']\n",
    "    \n",
    "    #get correct number of training\n",
    "    if float(dftraining.at[i,'prediction']) == float(dftraining.at[i,'target']) :\n",
    "        correcttraining = correcttraining + 1\n",
    "    \n",
    "    if counter % 16 == 0 : \n",
    "        ########################\n",
    "        dfvalidating = dfv\n",
    "        for k in range(1,37):\n",
    "            dfvalidating.at[0,'x'+str(k)] = dftraining.at[i,'x'+str(k)]\n",
    "        \n",
    "        dfvalidating.at[0,'bias'] = dftraining.at[i,'bias']\n",
    "        \n",
    "        for l in range(0,dfvalidating.shape[0]-1):\n",
    "            #predict validation using weight from training\n",
    "            dfvalidating.at[l,'sigmoid'] = dfvalidating.at[l,'i1']*dfvalidating.at[0,'x1']+dfvalidating.at[l,'i2']*dfvalidating.at[0,'x2']+dfvalidating.at[l,'i3']*dfvalidating.at[0,'x3']+dfvalidating.at[l,'i4']*dfvalidating.at[0,'x4']+dfvalidating.at[l,'i5']*dfvalidating.at[0,'x5']+dfvalidating.at[l,'i6']*dfvalidating.at[0,'x6']+dfvalidating.at[l,'i7']*dfvalidating.at[0,'x7']+dfvalidating.at[l,'i8']*dfvalidating.at[0,'x8']+dfvalidating.at[l,'i9']*dfvalidating.at[0,'x9']+dfvalidating.at[l,'i10']*dfvalidating.at[0,'x10']+dfvalidating.at[l,'i11']*dfvalidating.at[0,'x11']+dfvalidating.at[l,'i12']*dfvalidating.at[0,'x12']+dfvalidating.at[l,'i13']*dfvalidating.at[0,'x13']+dfvalidating.at[l,'i14']*dfvalidating.at[0,'x14']+dfvalidating.at[l,'i15']*dfvalidating.at[0,'x15']+dfvalidating.at[l,'i16']*dfvalidating.at[0,'x16']+dfvalidating.at[l,'i17']*dfvalidating.at[0,'x17']+dfvalidating.at[l,'i18']*dfvalidating.at[0,'x18']+dfvalidating.at[l,'i19']*dfvalidating.at[0,'x19']+dfvalidating.at[l,'i20']*dfvalidating.at[0,'x20']+dfvalidating.at[l,'i21']*dfvalidating.at[0,'x21']+dfvalidating.at[l,'i22']*dfvalidating.at[0,'x22']+dfvalidating.at[l,'i23']*dfvalidating.at[0,'x23']+dfvalidating.at[l,'i24']*dfvalidating.at[0,'x24']+dfvalidating.at[l,'i25']*dfvalidating.at[0,'x25']+dfvalidating.at[l,'i26']*dfvalidating.at[0,'x26']+dfvalidating.at[l,'i27']*dfvalidating.at[0,'x27']+dfvalidating.at[l,'i28']*dfvalidating.at[0,'x28']+dfvalidating.at[l,'i29']*dfvalidating.at[0,'x29']+dfvalidating.at[l,'i30']*dfvalidating.at[0,'x30']+dfvalidating.at[l,'i31']*dfvalidating.at[0,'x31']+dfvalidating.at[l,'i32']*dfvalidating.at[0,'x32']+dfvalidating.at[l,'i33']*dfvalidating.at[0,'x33']+dfvalidating.at[l,'i34']*dfvalidating.at[0,'x34']+dfvalidating.at[l,'i35']*dfvalidating.at[0,'x35']+dfvalidating.at[l,'i36']*dfvalidating.at[0,'x36']+dfvalidating.at[0,'bias']\n",
    "            \n",
    "            dfvalidating.at[l,'sigmoid'] =  1/(1+math.exp(-dfvalidating.at[l,'sigmoid']))\n",
    "            \n",
    "            if dfvalidating.at[l,'sigmoid']>0.5:\n",
    "                dfvalidating.at[l,'prediction']= 1\n",
    "            else:\n",
    "                dfvalidating.at[l,'prediction']= 0\n",
    "                \n",
    "            #get error\n",
    "            dfvalidating.at[l,'error'] = math.pow(float(dfvalidating.at[l,'target'])-float(dfvalidating.at[l,'sigmoid']),2)/2\n",
    "                \n",
    "            #get correct number of training\n",
    "            if float(dfvalidating.at[l,'prediction']) == float(dfvalidating.at[l,'target']) :\n",
    "                correctvalidate = correctvalidate + 1\n",
    "        \n",
    "        ########################\n",
    "        ploterrortrain.append(dftraining.at[i,'error']*100)\n",
    "        plotcorrecttrain.append(100*correcttraining/16) \n",
    "        \n",
    "        ploterrorvalidate.append(dfvalidating['error'].mean()*100)\n",
    "        plotcorrectvalidate.append(100*correctvalidate/8)\n",
    "        \n",
    "        plotcounter.append(counter/16)\n",
    "        \n",
    "        correcttraining = correctvalidate= 0\n"
   ]
  },
  {
   "cell_type": "code",
   "execution_count": 8,
   "metadata": {},
   "outputs": [
    {
     "name": "stdout",
     "output_type": "stream",
     "text": [
      "Learning Rate:  0.2  Epochs:  80\n"
     ]
    },
    {
     "data": {
      "text/plain": [
       "Text(0, 0.5, 'error')"
      ]
     },
     "execution_count": 8,
     "metadata": {},
     "output_type": "execute_result"
    },
    {
     "data": {
      "image/png": "[encoded data removed]",
      "text/plain": [
       "<Figure size 432x288 with 1 Axes>"
      ]
     },
     "metadata": {
      "needs_background": "light"
     },
     "output_type": "display_data"
    },
    {
     "data": {
      "image/png": "[encoded data removed]",
      "text/plain": [
       "<Figure size 432x288 with 1 Axes>"
      ]
     },
     "metadata": {
      "needs_background": "light"
     },
     "output_type": "display_data"
    }
   ],
   "source": [
    "fig, plotaccuracy = plt.subplots()\n",
    "fig, ploterror = plt.subplots()\n",
    "\n",
    "print(\"Learning Rate: \",learningrate,\" Epochs: \",epoch)\n",
    "plotaccuracy.plot(plotcounter, plotcorrecttrain, color=\"red\",label=\"training\")\n",
    "plotaccuracy.plot(plotcounter, plotcorrectvalidate, color = \"green\", label = \"validation\")\n",
    "plotaccuracy.legend(loc = \"lower right\") \n",
    "plotaccuracy.set_title(\"Accuracy Diagram\")\n",
    "plotaccuracy.set_xlabel(\"number of epochs\")\n",
    "plotaccuracy.set_ylabel(\"% accuracy\")\n",
    "\n",
    "\n",
    "ploterror.plot(plotcounter, ploterrortrain, color = \"red\",label = \"training\")\n",
    "ploterror.plot(plotcounter, ploterrorvalidate, color = \"green\", label = \"validation\")\n",
    "ploterror.legend(loc = \"upper right\")\n",
    "ploterror.set_title(\"Error Diagram\")\n",
    "ploterror.set_xlabel(\"number of epochs\")\n",
    "ploterror.set_ylabel(\"error\")"
   ]
  },
  {
   "cell_type": "code",
   "execution_count": null,
   "metadata": {},
   "outputs": [],
   "source": []
  }
 ],
 "metadata": {
  "kernelspec": {
   "display_name": "Python 3",
   "language": "python",
   "name": "python3"
  },
  "language_info": {
   "codemirror_mode": {
    "name": "ipython",
    "version": 3
   },
   "file_extension": ".py",
   "mimetype": "text/x-python",
   "name": "python",
   "nbconvert_exporter": "python",
   "pygments_lexer": "ipython3",
   "version": "3.6.8"
  }
 },
 "nbformat": 4,
 "nbformat_minor": 2
}
